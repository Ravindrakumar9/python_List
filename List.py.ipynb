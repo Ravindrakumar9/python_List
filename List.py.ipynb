{
 "cells": [
  {
   "cell_type": "markdown",
   "id": "db739898",
   "metadata": {},
   "source": [
    "List : collection of elements are called List it enclosed with [] braces. \n",
    "       every element in the list object is represented with unique index.\n",
    "       List objects are mutable.\n",
    "       it allows multiple duplicate characters"
   ]
  },
  {
   "cell_type": "markdown",
   "id": "ac2eb29b",
   "metadata": {},
   "source": [
    "# List indexing : Fetching the specific character by using the index number."
   ]
  },
  {
   "cell_type": "code",
   "execution_count": 1,
   "id": "018682fa",
   "metadata": {},
   "outputs": [
    {
     "data": {
      "text/plain": [
       "1"
      ]
     },
     "execution_count": 1,
     "metadata": {},
     "output_type": "execute_result"
    }
   ],
   "source": [
    "list1 = [1,2,3,4.4,\"kumar\",True]\n",
    "list1[0]                                     #List indexing,index[0]position"
   ]
  },
  {
   "cell_type": "code",
   "execution_count": 3,
   "id": "9f08b7f3",
   "metadata": {},
   "outputs": [
    {
     "data": {
      "text/plain": [
       "4.4"
      ]
     },
     "execution_count": 3,
     "metadata": {},
     "output_type": "execute_result"
    }
   ],
   "source": [
    "list1[3]                                    # indexing 3rd position"
   ]
  },
  {
   "cell_type": "code",
   "execution_count": 4,
   "id": "8c5f9e90",
   "metadata": {},
   "outputs": [
    {
     "data": {
      "text/plain": [
       "True"
      ]
     },
     "execution_count": 4,
     "metadata": {},
     "output_type": "execute_result"
    }
   ],
   "source": [
    "list1[5]                                     # indexing 5th position"
   ]
  },
  {
   "cell_type": "markdown",
   "id": "17ede8b3",
   "metadata": {},
   "source": [
    "'''List slicing : Using the slicing operation we access the range of objects of List.\n",
    "   Slicing operator colon (:) is used.'''"
   ]
  },
  {
   "cell_type": "code",
   "execution_count": 15,
   "id": "2f4b082b",
   "metadata": {},
   "outputs": [
    {
     "data": {
      "text/plain": [
       "[1, 2, 3, 4.4, 'kumar', True]"
      ]
     },
     "execution_count": 15,
     "metadata": {},
     "output_type": "execute_result"
    }
   ],
   "source": [
    "list1"
   ]
  },
  {
   "cell_type": "code",
   "execution_count": 16,
   "id": "e7e2984b",
   "metadata": {},
   "outputs": [
    {
     "name": "stdout",
     "output_type": "stream",
     "text": [
      "[1, 2]\n"
     ]
    }
   ],
   "source": [
    "print(list1[0:2])                             # List slicing,slicing of 0 to 2"
   ]
  },
  {
   "cell_type": "code",
   "execution_count": 17,
   "id": "5a91727f",
   "metadata": {},
   "outputs": [
    {
     "name": "stdout",
     "output_type": "stream",
     "text": [
      "[True, 'kumar', 4.4]\n"
     ]
    }
   ],
   "source": [
    "print(list1[-1:-4:-1])"
   ]
  },
  {
   "cell_type": "code",
   "execution_count": 18,
   "id": "9647766d",
   "metadata": {},
   "outputs": [
    {
     "name": "stdout",
     "output_type": "stream",
     "text": [
      "[]\n"
     ]
    }
   ],
   "source": [
    "print(list1[-1:-4:1])"
   ]
  },
  {
   "cell_type": "markdown",
   "id": "fe8937d3",
   "metadata": {},
   "source": [
    "'''List concatenation : we can concatenate two or more lists into single.\n",
    "   \"+\" operator is used for concatenation'''"
   ]
  },
  {
   "cell_type": "code",
   "execution_count": 21,
   "id": "461fb9a6",
   "metadata": {},
   "outputs": [
    {
     "data": {
      "text/plain": [
       "[1, 2, 3, 4.4, 'kumar', True]"
      ]
     },
     "execution_count": 21,
     "metadata": {},
     "output_type": "execute_result"
    }
   ],
   "source": [
    "list1                                                       # taking first list"
   ]
  },
  {
   "cell_type": "code",
   "execution_count": 22,
   "id": "0a685691",
   "metadata": {},
   "outputs": [],
   "source": [
    "list2 = [9,8,6.2,\"Ravindra\",False]                         # taking second list"
   ]
  },
  {
   "cell_type": "code",
   "execution_count": 24,
   "id": "91a149cf",
   "metadata": {},
   "outputs": [
    {
     "data": {
      "text/plain": [
       "[9, 8, 6.2, 'Ravindra', False]"
      ]
     },
     "execution_count": 24,
     "metadata": {},
     "output_type": "execute_result"
    }
   ],
   "source": [
    "list2"
   ]
  },
  {
   "cell_type": "code",
   "execution_count": 30,
   "id": "97f448fc",
   "metadata": {},
   "outputs": [
    {
     "name": "stdout",
     "output_type": "stream",
     "text": [
      "[1, 2, 3, 4.4, 'kumar', True, 9, 8, 6.2, 'Ravindra', False]\n"
     ]
    }
   ],
   "source": [
    "print(list1+list2)                                        # concatenating first and second lists"
   ]
  },
  {
   "cell_type": "markdown",
   "id": "9470bd34",
   "metadata": {},
   "source": [
    "List multiplication : python supports mupltiplying the given string into number of times"
   ]
  },
  {
   "cell_type": "code",
   "execution_count": 31,
   "id": "f00dc77a",
   "metadata": {},
   "outputs": [
    {
     "data": {
      "text/plain": [
       "[1, 2, 3, 4.4, 'kumar', True]"
      ]
     },
     "execution_count": 31,
     "metadata": {},
     "output_type": "execute_result"
    }
   ],
   "source": [
    "list1"
   ]
  },
  {
   "cell_type": "code",
   "execution_count": 32,
   "id": "13cf4b73",
   "metadata": {},
   "outputs": [
    {
     "data": {
      "text/plain": [
       "[1, 2, 3, 4.4, 'kumar', True, 1, 2, 3, 4.4, 'kumar', True]"
      ]
     },
     "execution_count": 32,
     "metadata": {},
     "output_type": "execute_result"
    }
   ],
   "source": [
    "list1*2"
   ]
  },
  {
   "cell_type": "code",
   "execution_count": 34,
   "id": "28c37c79",
   "metadata": {},
   "outputs": [],
   "source": [
    "list1.append('rvr')                   # to add  an item at the end of the list"
   ]
  },
  {
   "cell_type": "code",
   "execution_count": 35,
   "id": "a9241eba",
   "metadata": {},
   "outputs": [
    {
     "data": {
      "text/plain": [
       "[1, 2, 3, 4.4, 'kumar', True, 'rvr']"
      ]
     },
     "execution_count": 35,
     "metadata": {},
     "output_type": "execute_result"
    }
   ],
   "source": [
    "list1"
   ]
  },
  {
   "cell_type": "code",
   "execution_count": 36,
   "id": "9f316da7",
   "metadata": {},
   "outputs": [],
   "source": [
    "list1.insert(3,4)                     # inserting item at specified position"
   ]
  },
  {
   "cell_type": "code",
   "execution_count": 37,
   "id": "0aa8d80d",
   "metadata": {},
   "outputs": [
    {
     "data": {
      "text/plain": [
       "[1, 2, 3, 4, 4.4, 'kumar', True, 'rvr']"
      ]
     },
     "execution_count": 37,
     "metadata": {},
     "output_type": "execute_result"
    }
   ],
   "source": [
    "list1"
   ]
  },
  {
   "cell_type": "code",
   "execution_count": 38,
   "id": "86922325",
   "metadata": {},
   "outputs": [],
   "source": [
    "list1.extend(list2)                   # adding all items from list2 to list1"
   ]
  },
  {
   "cell_type": "code",
   "execution_count": 39,
   "id": "cc6fbd7e",
   "metadata": {},
   "outputs": [
    {
     "data": {
      "text/plain": [
       "[1, 2, 3, 4, 4.4, 'kumar', True, 'rvr', 9, 8, 6.2, 'Ravindra', False]"
      ]
     },
     "execution_count": 39,
     "metadata": {},
     "output_type": "execute_result"
    }
   ],
   "source": [
    "list1"
   ]
  },
  {
   "cell_type": "code",
   "execution_count": 40,
   "id": "4d80d568",
   "metadata": {},
   "outputs": [
    {
     "data": {
      "text/plain": [
       "[1, 2, 3, 4, 4.4, 'kumar', True, 'rvr', 9, 8, 6.2, 'Ravindra', False]"
      ]
     },
     "execution_count": 40,
     "metadata": {},
     "output_type": "execute_result"
    }
   ],
   "source": [
    "list1"
   ]
  },
  {
   "cell_type": "code",
   "execution_count": 41,
   "id": "327bbe32",
   "metadata": {},
   "outputs": [],
   "source": [
    "list1.remove(2)                      # to remove specified item from the list"
   ]
  },
  {
   "cell_type": "code",
   "execution_count": 42,
   "id": "5b689128",
   "metadata": {},
   "outputs": [
    {
     "data": {
      "text/plain": [
       "[1, 3, 4, 4.4, 'kumar', True, 'rvr', 9, 8, 6.2, 'Ravindra', False]"
      ]
     },
     "execution_count": 42,
     "metadata": {},
     "output_type": "execute_result"
    }
   ],
   "source": [
    "list1"
   ]
  },
  {
   "cell_type": "code",
   "execution_count": 43,
   "id": "67b6a586",
   "metadata": {},
   "outputs": [
    {
     "data": {
      "text/plain": [
       "False"
      ]
     },
     "execution_count": 43,
     "metadata": {},
     "output_type": "execute_result"
    }
   ],
   "source": [
    "list1.pop()                        # it removes last element of the list"
   ]
  },
  {
   "cell_type": "code",
   "execution_count": 44,
   "id": "9738f21f",
   "metadata": {},
   "outputs": [
    {
     "data": {
      "text/plain": [
       "[1, 3, 4, 4.4, 'kumar', True, 'rvr', 9, 8, 6.2, 'Ravindra']"
      ]
     },
     "execution_count": 44,
     "metadata": {},
     "output_type": "execute_result"
    }
   ],
   "source": [
    "list1"
   ]
  },
  {
   "cell_type": "code",
   "execution_count": 45,
   "id": "b8bf9b3a",
   "metadata": {},
   "outputs": [],
   "source": [
    "list1.reverse()                    # reverse the order of the list"
   ]
  },
  {
   "cell_type": "code",
   "execution_count": 46,
   "id": "cb46738e",
   "metadata": {},
   "outputs": [
    {
     "data": {
      "text/plain": [
       "['Ravindra', 6.2, 8, 9, 'rvr', True, 'kumar', 4.4, 4, 3, 1]"
      ]
     },
     "execution_count": 46,
     "metadata": {},
     "output_type": "execute_result"
    }
   ],
   "source": [
    "list1"
   ]
  },
  {
   "cell_type": "code",
   "execution_count": 48,
   "id": "a15b99f5",
   "metadata": {},
   "outputs": [],
   "source": [
    "list3 =[9,7,8,6,4,3,5,2,1]"
   ]
  },
  {
   "cell_type": "code",
   "execution_count": 49,
   "id": "45591814",
   "metadata": {},
   "outputs": [
    {
     "data": {
      "text/plain": [
       "[9, 7, 8, 6, 4, 3, 5, 2, 1]"
      ]
     },
     "execution_count": 49,
     "metadata": {},
     "output_type": "execute_result"
    }
   ],
   "source": [
    "list3"
   ]
  },
  {
   "cell_type": "code",
   "execution_count": 50,
   "id": "62169d5c",
   "metadata": {},
   "outputs": [],
   "source": [
    "list3.sort()                       # sort the elements of the list"
   ]
  },
  {
   "cell_type": "code",
   "execution_count": 51,
   "id": "8a1c22ed",
   "metadata": {},
   "outputs": [
    {
     "data": {
      "text/plain": [
       "[1, 2, 3, 4, 5, 6, 7, 8, 9]"
      ]
     },
     "execution_count": 51,
     "metadata": {},
     "output_type": "execute_result"
    }
   ],
   "source": [
    "list3"
   ]
  },
  {
   "cell_type": "code",
   "execution_count": 54,
   "id": "6dea055e",
   "metadata": {},
   "outputs": [
    {
     "data": {
      "text/plain": [
       "11"
      ]
     },
     "execution_count": 54,
     "metadata": {},
     "output_type": "execute_result"
    }
   ],
   "source": [
    "len(list1)                         #  count the number of elements in the given list"
   ]
  },
  {
   "cell_type": "code",
   "execution_count": 55,
   "id": "222f4d1b",
   "metadata": {},
   "outputs": [
    {
     "data": {
      "text/plain": [
       "5"
      ]
     },
     "execution_count": 55,
     "metadata": {},
     "output_type": "execute_result"
    }
   ],
   "source": [
    "len(list2)"
   ]
  },
  {
   "cell_type": "code",
   "execution_count": 56,
   "id": "5d9239a6",
   "metadata": {},
   "outputs": [
    {
     "data": {
      "text/plain": [
       "9"
      ]
     },
     "execution_count": 56,
     "metadata": {},
     "output_type": "execute_result"
    }
   ],
   "source": [
    "len(list3)"
   ]
  },
  {
   "cell_type": "code",
   "execution_count": 57,
   "id": "c28235b7",
   "metadata": {},
   "outputs": [],
   "source": [
    "list4 = [1,2,3,3,3,4,4,5,5,7,7,7,7,7,9,9,9,99,9,99,0,0,0,0,0,]"
   ]
  },
  {
   "cell_type": "code",
   "execution_count": 58,
   "id": "9518d884",
   "metadata": {},
   "outputs": [
    {
     "data": {
      "text/plain": [
       "[1, 2, 3, 3, 3, 4, 4, 5, 5, 7, 7, 7, 7, 7, 9, 9, 9, 99, 9, 99, 0, 0, 0, 0, 0]"
      ]
     },
     "execution_count": 58,
     "metadata": {},
     "output_type": "execute_result"
    }
   ],
   "source": [
    "list4"
   ]
  },
  {
   "cell_type": "code",
   "execution_count": 59,
   "id": "6d757cb2",
   "metadata": {},
   "outputs": [
    {
     "data": {
      "text/plain": [
       "5"
      ]
     },
     "execution_count": 59,
     "metadata": {},
     "output_type": "execute_result"
    }
   ],
   "source": [
    "list4.count(7)                              # count num of occurences of a specific character"
   ]
  },
  {
   "cell_type": "code",
   "execution_count": 60,
   "id": "c4771361",
   "metadata": {},
   "outputs": [
    {
     "data": {
      "text/plain": [
       "5"
      ]
     },
     "execution_count": 60,
     "metadata": {},
     "output_type": "execute_result"
    }
   ],
   "source": [
    "list4.count(0)"
   ]
  },
  {
   "cell_type": "code",
   "execution_count": 61,
   "id": "debf77f6",
   "metadata": {},
   "outputs": [
    {
     "data": {
      "text/plain": [
       "2"
      ]
     },
     "execution_count": 61,
     "metadata": {},
     "output_type": "execute_result"
    }
   ],
   "source": [
    "list4.count(99)"
   ]
  },
  {
   "cell_type": "code",
   "execution_count": null,
   "id": "82dd6de1",
   "metadata": {},
   "outputs": [],
   "source": []
  }
 ],
 "metadata": {
  "kernelspec": {
   "display_name": "Python 3 (ipykernel)",
   "language": "python",
   "name": "python3"
  },
  "language_info": {
   "codemirror_mode": {
    "name": "ipython",
    "version": 3
   },
   "file_extension": ".py",
   "mimetype": "text/x-python",
   "name": "python",
   "nbconvert_exporter": "python",
   "pygments_lexer": "ipython3",
   "version": "3.9.7"
  }
 },
 "nbformat": 4,
 "nbformat_minor": 5
}
